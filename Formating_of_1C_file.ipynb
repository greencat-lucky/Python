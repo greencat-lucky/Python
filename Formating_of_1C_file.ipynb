{
 "cells": [
  {
   "cell_type": "code",
   "execution_count": null,
   "metadata": {},
   "outputs": [],
   "source": [
    "import pandas as pd\n",
    "import os\n",
    "import glob\n",
    "\n",
    "file_path=\"C:\\\\Users\\\\oshato02\\\\Desktop\\\\Sales_to_format\"\n",
    "\n",
    "os.getcwd()\n",
    "os.chdir(file_path)\n",
    "\n",
    "file_list = os.listdir(file_path)\n",
    "csv_files = glob.glob('*.{}'.format('xlsx'))        \n",
    "\n",
    "new_date=csv_files[0].split('.')[0].replace('-','.')        #extract date from the name of the file (the name of the file is date of the data)\n",
    "\n",
    "df=pd.read_excel(csv_files[0], skiprows=4)                  #read the first file in the list of files, do not read first 3 rows (header)\n",
    "\n",
    "df.insert(0,'date',new_date)                                #insert the first column with date, fill each row with the value of date of the file\n",
    "\n",
    "df['margin']=0                                              #insert th column in the end with the value for each row as 0\n",
    "\n",
    "df.drop(columns={'Unnamed: 1','Unnamed: 4'}, inplace=True)  #remove columns, they`re empty\n",
    "                                                            #rename the columns\n",
    "df.rename(columns = {'Магазин': 'business_unit','Сектор': 'sector','Отдел': 'department','Группа товаров': 'family','Номенклатура': 'sku','Код модели': 'model_code', 'Модель': 'model_name','Тип продукта': 'product_type','Группа настроек фин. учета': 'product_origin','Итого': 'qty', 'Модель': 'model_name', 'Unnamed: 12':'to'}, inplace = True)\n",
    "\n",
    "df.drop([0,1], inplace=True)                                #remove rows 0 and 1, they have no value\n",
    "                                                            #change positions of columns\n",
    "df = df.reindex(columns=['date', 'business_unit', 'sector','department','family','sku','model_code','model_name','qty','to','margin','product_type','product_origin'])\n",
    "\n",
    "df['business_unit']=df['business_unit'].str.split('_').str[0]   #leave only first part of business unit name\n",
    "\n",
    "#if the first symbol of the field is zero, then drop it\n",
    "df['business_unit'] = df.apply(lambda x:x['business_unit'][1:]  if x['business_unit'][:1] == '0' else x['business_unit'], axis=1) \n",
    "\n",
    "df.to_csv('sales_all.csv',encoding='utf-8', index=False)"
   ]
  }
 ],
 "metadata": {
  "language_info": {
   "name": "python"
  }
 },
 "nbformat": 4,
 "nbformat_minor": 2
}
